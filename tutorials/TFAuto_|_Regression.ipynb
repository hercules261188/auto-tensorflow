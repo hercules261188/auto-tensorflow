{
  "nbformat": 4,
  "nbformat_minor": 0,
  "metadata": {
    "colab": {
      "name": "TFAuto | Demo and Library testing.ipynb",
      "provenance": [],
      "collapsed_sections": [],
      "authorship_tag": "ABX9TyMuQ65ItlfK8se1uePCq6eE",
      "include_colab_link": true
    },
    "kernelspec": {
      "name": "python3",
      "display_name": "Python 3"
    },
    "language_info": {
      "name": "python"
    }
  },
  "cells": [
    {
      "cell_type": "markdown",
      "metadata": {
        "id": "view-in-github",
        "colab_type": "text"
      },
      "source": [
        "<a href=\"https://colab.research.google.com/github/rafiqhasan/auto-tensorflow/blob/main/tutorials/TFAuto_%7C_Regression.ipynb\" target=\"_parent\"><img src=\"https://colab.research.google.com/assets/colab-badge.svg\" alt=\"Open In Colab\"/></a>"
      ]
    },
    {
      "cell_type": "code",
      "metadata": {
        "id": "qfbOrnbYi1CF"
      },
      "source": [
        "# !pip install git+https://github.com/rafiqhasan/auto-tensorflow.git\n",
        "!pip install auto-tensorflow"
      ],
      "execution_count": null,
      "outputs": []
    },
    {
      "cell_type": "code",
      "metadata": {
        "id": "JPfi5hIckYxY"
      },
      "source": [
        "from auto_tensorflow.tfa import TFAuto"
      ],
      "execution_count": null,
      "outputs": []
    },
    {
      "cell_type": "markdown",
      "metadata": {
        "id": "UwPONJGzkSmE"
      },
      "source": [
        "### **Download data**"
      ]
    },
    {
      "cell_type": "code",
      "metadata": {
        "id": "rbTX-qXJi7dd"
      },
      "source": [
        "!rm -rf data.*\n",
        "!rm -rf /content/*.png\n",
        "!rm -rf *trainer.py\n",
        "!rm -r /content/train_data\n",
        "!rm -r /content/test_data\n",
        "!rm -rf untitled_project\n",
        "!mkdir /content/train_data\n",
        "!mkdir /content/test_data\n",
        "!sudo rm -r /content/tfauto"
      ],
      "execution_count": null,
      "outputs": []
    },
    {
      "cell_type": "code",
      "metadata": {
        "id": "PY1LdrO-kWa3"
      },
      "source": [
        "# # House price\n",
        "%%bash\n",
        "cd /content/train_data\n",
        "wget https://raw.githubusercontent.com/rafiqhasan/AI_DL_ML_Repo/master/Datasets/house_price/data.csv\n",
        "\n",
        "cd ../test_data\n",
        "wget https://raw.githubusercontent.com/rafiqhasan/AI_DL_ML_Repo/master/Datasets/house_price/data.csv ##Taken same data for demonstration purposes only"
      ],
      "execution_count": null,
      "outputs": []
    },
    {
      "cell_type": "code",
      "metadata": {
        "id": "az8gJw7NlnCZ"
      },
      "source": [
        "##Initialize TFAuto with root and Data path\n",
        "tfa = TFAuto(train_data_path='/content/train_data/', test_data_path='/content/test_data/', path_root='/content/tfauto')"
      ],
      "execution_count": null,
      "outputs": []
    },
    {
      "cell_type": "code",
      "metadata": {
        "id": "_ddQF8rylpKS"
      },
      "source": [
        "##Step 1\n",
        "##Run Data setup -> Infer Schema, find anomalies, create profile and show viz\n",
        "tfa.step_data_explore(viz=False)"
      ],
      "execution_count": null,
      "outputs": []
    },
    {
      "cell_type": "code",
      "metadata": {
        "id": "NSj07bKPlryx"
      },
      "source": [
        "##Step 2\n",
        "##Run Model Training ->\n",
        "tfa.step_model_build(label_column = 'price', model_type='REGRESSION')     ##--> Default model_complexity\n",
        "# tfa.step_model_build(label_column = 'price', model_type='REGRESSION', model_complexity=0)     ##--> Model_complexity = 0 ( Simple model - No HPT )"
      ],
      "execution_count": null,
      "outputs": []
    },
    {
      "cell_type": "code",
      "metadata": {
        "id": "NpOsECxjl3MH"
      },
      "source": [
        "##Step 3\n",
        "##Show model What-If Tool\n",
        "tfa.step_model_whatif()"
      ],
      "execution_count": null,
      "outputs": []
    },
    {
      "cell_type": "code",
      "metadata": {
        "id": "MJk0dJ1PmBeq"
      },
      "source": [
        "#Check signature\n",
        "!saved_model_cli show --dir \"/content/tfauto/model/1\" --all"
      ],
      "execution_count": null,
      "outputs": []
    },
    {
      "cell_type": "markdown",
      "metadata": {
        "id": "CDczgmy4knkU"
      },
      "source": [
        "## **Tensorflow Model Serving**"
      ]
    },
    {
      "cell_type": "code",
      "metadata": {
        "id": "At1xykbBqiEZ"
      },
      "source": [
        "!apt-get remove tensorflow-model-server\n",
        "!echo \"deb http://storage.googleapis.com/tensorflow-serving-apt stable tensorflow-model-server tensorflow-model-server-universal\" | tee /etc/apt/sources.list.d/tensorflow-serving.list && \\\n",
        "curl https://storage.googleapis.com/tensorflow-serving-apt/tensorflow-serving.release.pub.gpg | apt-key add -\n",
        "!apt update\n",
        "\n",
        "!apt-get install tensorflow-model-server"
      ],
      "execution_count": null,
      "outputs": []
    },
    {
      "cell_type": "code",
      "metadata": {
        "id": "QgWjBqkvks3D"
      },
      "source": [
        "###Start Tensorflow server\n",
        "# %%bash --bg \n",
        "# export TF_CPP_MIN_VLOG_LEVEL=0\n",
        "\n",
        "%%bash --bg \n",
        "nohup tensorflow_model_server \\\n",
        "  --rest_api_port=8502 \\\n",
        "  --model_name=model \\\n",
        "  --model_base_path=\"/content/tfauto/model\" >server.log 2>&1"
      ],
      "execution_count": null,
      "outputs": []
    },
    {
      "cell_type": "code",
      "metadata": {
        "id": "SU3J6T-zk1UR"
      },
      "source": [
        "!tail server.log"
      ],
      "execution_count": null,
      "outputs": []
    },
    {
      "cell_type": "code",
      "metadata": {
        "id": "BMG1-nA7k3fn"
      },
      "source": [
        "import json\n",
        "import requests\n",
        "\n",
        "#Create payload\n",
        "data_py = {\"inputs\":{'bedrooms': [[3]],\n",
        "                         'bathrooms': [[2.0]],\n",
        "                         'sqft_living': [[1180]],\n",
        "                         'sqft_lot': [[5650]],\n",
        "                         'floors': [[2.0]],\n",
        "                         'waterfront': [[1]],\n",
        "                         'view': [[1]],\n",
        "                         'condition': [[3]],\n",
        "                         'grade': [[7]],\n",
        "                         'sqft_above': [[1180]],\n",
        "                         'sqft_basement': [[0]],\n",
        "                         'yr_built': [[1997]],\n",
        "                         'sqft_living15': [[1340]],\n",
        "                         'sqft_lot15': [[5650]]\n",
        "                     }}\n",
        "                     \n",
        "data = json.dumps(data_py)\n",
        "print(\"payload: \", data)\n",
        "\n",
        "#Run request on TMS\n",
        "headers = {\"content-type\": \"application/json\"}\n",
        "json_response = requests.post('http://localhost:8502/v1/models/model:predict', data=data, headers=headers)\n",
        "json_response.text"
      ],
      "execution_count": null,
      "outputs": []
    },
    {
      "cell_type": "code",
      "metadata": {
        "id": "W441stydlIh0"
      },
      "source": [
        ""
      ],
      "execution_count": null,
      "outputs": []
    }
  ]
}